{
 "cells": [
  {
   "cell_type": "code",
   "execution_count": 1,
   "metadata": {},
   "outputs": [],
   "source": [
    "import pandas as pd\n",
    "import pyreadstat\n",
    "import json\n",
    "\n",
    "df, meta = pyreadstat.read_sav('raw_data.sav')"
   ]
  },
  {
   "cell_type": "code",
   "execution_count": 2,
   "metadata": {},
   "outputs": [
    {
     "data": {
      "text/plain": [
       "dict_keys(['column_names', 'column_labels', 'column_names_to_labels', 'file_encoding', 'number_columns', 'number_rows', 'variable_value_labels', 'value_labels', 'variable_to_label', 'notes', 'original_variable_types', 'readstat_variable_types', 'table_name', 'missing_ranges', 'missing_user_values', 'variable_storage_width', 'variable_display_width', 'variable_alignment', 'variable_measure', 'file_label', 'file_format'])"
      ]
     },
     "execution_count": 2,
     "metadata": {},
     "output_type": "execute_result"
    }
   ],
   "source": [
    "meta.__dict__.keys()"
   ]
  },
  {
   "cell_type": "code",
   "execution_count": 3,
   "metadata": {},
   "outputs": [
    {
     "name": "stdout",
     "output_type": "stream",
     "text": [
      "['Proszę podziel 100% Twojego czasu, który poświęcasz na granie w przeciętnym tygodniu pomiędzy urządzenia, na których grasz. - wpisz ile % czasu - Komputer PC/laptop']\n"
     ]
    },
    {
     "data": {
      "text/plain": [
       "Index(['pyt1_h1_r1'], dtype='object')"
      ]
     },
     "execution_count": 3,
     "metadata": {},
     "output_type": "execute_result"
    }
   ],
   "source": [
    "i, i2 = 212, 213\n",
    "print(meta.__dict__['column_labels'][i: i2])\n",
    "df.columns[i: i2]"
   ]
  },
  {
   "cell_type": "code",
   "execution_count": 4,
   "metadata": {},
   "outputs": [
    {
     "data": {
      "text/plain": [
       "839"
      ]
     },
     "execution_count": 4,
     "metadata": {},
     "output_type": "execute_result"
    }
   ],
   "source": [
    "len(df[df['s3_h1_r4'] != ''])"
   ]
  },
  {
   "cell_type": "code",
   "execution_count": 5,
   "metadata": {},
   "outputs": [],
   "source": [
    "def connect_text_cols(df, label):\n",
    "\n",
    "    placeholders = ['.', '', '-']\n",
    "\n",
    "    if len(df.columns) != 40:\n",
    "        print('Wrong amount of columns')\n",
    "\n",
    "    new_df = pd.DataFrame()\n",
    "\n",
    "    col_i = 0\n",
    "    for i in range(1, 5):\n",
    "        nlp_text = df[df.columns[col_i:col_i + 10]].values\n",
    "        processed_text = [' '.join([sentence.capitalize() + '.' for sentence in arr if sentence not in placeholders]) for arr in nlp_text]\n",
    "        new_df[f'nlp_{i}_{label}'] = processed_text\n",
    "        col_i += 10\n",
    "\n",
    "    return new_df\n",
    "\n",
    "\n",
    "def get_GI_cols_names(label):\n",
    "\n",
    "    GI = ['gaming', 'thinking', 'guides', 'watching', 'talking', 'buying']\n",
    "\n",
    "    names = []\n",
    "    for day in ['norm', 'wknd']:\n",
    "        for activity in GI:\n",
    "            names.append(f'{day}_{activity}_{label}')\n",
    "    return names"
   ]
  },
  {
   "cell_type": "code",
   "execution_count": 6,
   "metadata": {},
   "outputs": [],
   "source": [
    "friend_nlp_columns = df.columns[114: 154]\n",
    "df_friend_text = df[friend_nlp_columns]\n",
    "friend_nlp = connect_text_cols(df_friend_text, 'friend')\n",
    "\n",
    "friend_GI_cols = df.columns[154: 166]\n",
    "friend_GI = dict(zip(friend_GI_cols, get_GI_cols_names('friend')))\n",
    "\n",
    "friend_motives_cols = df.columns[166: 189]\n",
    "friend_motives = dict(zip(friend_motives_cols, [f'motive_{i}_friend' for i in range(1, len(friend_motives_cols) + 1)]))\n",
    "\n",
    "friend_GDT_cols = df.columns[190: 194]\n",
    "friend_GDT = dict(zip(friend_GDT_cols, [f'GDT_{i}_friend' for i in range(1, len(friend_GDT_cols) + 1)]))\n",
    "\n",
    "friend_IGD_cols = list(df.columns[104: 114])\n",
    "if len(friend_IGD_cols) == 10:\n",
    "    del friend_IGD_cols[-2]\n",
    "friend_IGD = dict(zip(friend_IGD_cols, [f'IGD_{i}_friend' for i in range(1, len(friend_IGD_cols) + 1)]))"
   ]
  },
  {
   "cell_type": "code",
   "execution_count": 7,
   "metadata": {},
   "outputs": [],
   "source": [
    "adult_nlp_columns = df.columns[24:64]\n",
    "df_adult_text = df[adult_nlp_columns]\n",
    "adult_nlp = connect_text_cols(df_adult_text, 'adult')\n",
    "\n",
    "adult_GI_cols = df.columns[64: 76]\n",
    "adult_GI = dict(zip(adult_GI_cols, get_GI_cols_names('adult')))\n",
    "\n",
    "adult_motives_cols = df.columns[76: 99]\n",
    "adult_motives = dict(zip(adult_motives_cols, [f'motive_{i}_adult' for i in range(1, len(adult_motives_cols) + 1)]))\n",
    "\n",
    "adult_GDT_cols = df.columns[100: 104]\n",
    "adult_GDT = dict(zip(adult_GDT_cols, [f'GDT_{i}_adult' for i in range(1, len(adult_GDT_cols) + 1)]))\n",
    "\n",
    "adult_IGD_cols = list(df.columns[104: 114])\n",
    "if len(adult_IGD_cols) == 10:\n",
    "    del adult_IGD_cols[-2]\n",
    "adult_IGD = dict(zip(adult_IGD_cols, [f'IGD_{i}_adult' for i in range(1, len(adult_IGD_cols) + 1)]))"
   ]
  },
  {
   "cell_type": "code",
   "execution_count": 8,
   "metadata": {},
   "outputs": [],
   "source": [
    "df.drop(columns=['survey_finish_time', 'sex2', 'age', 'intro_1', 'zgoda_1', 'zgoda_2', 'zgoda_3', 'zgoda_4', 'zgoda_5',\n",
    "                  *adult_nlp_columns, *friend_nlp_columns,], inplace=True)\n",
    "\n",
    "df = df.rename(columns={'d_survey_finish_time': 'time', \n",
    "                        'year': 'age',\n",
    "                        'chi1': 'child_count',\n",
    "                        'chi2_r1': '6yo',\n",
    "                        'chi2_r2': '6_8yo',\n",
    "                        'chi2_r3': '9_12yo',\n",
    "                        'chi2_r4': '13_17yo',\n",
    "                        'chi2_r5': '18yo',\n",
    "                        's2': 'is_gaming',\n",
    "                        's2_bliski': 'has_friend',\n",
    "                        'wiek_os_bl': 'friend_age',\n",
    "                        'plec_os_bl': 'friend_sex',\n",
    "                        'kim_jest_os_bl': 'friend_role',\n",
    "                        **adult_GI,\n",
    "                        **adult_motives,\n",
    "                        's8b_r23': 'lie_motive_adult',\n",
    "                        **adult_GDT,\n",
    "                        's10_r9': 'lie_IGD_adult',\n",
    "                        **adult_IGD,\n",
    "                        **friend_GI,\n",
    "                        's8b_2_r23': 'lie_motive_friend',\n",
    "                        **friend_motives,\n",
    "                        **friend_GDT,\n",
    "                        **friend_IGD,\n",
    "                        's10_2_r9': 'lie_IGD_friend',\n",
    "                        'wyksz': 'study_years',\n",
    "                        'zwstat': 'relationship',\n",
    "                        'gospdom': 'ppl_in_home',\n",
    "                        'statzaw': 'work_status',\n",
    "                        'zawod': 'work',\n",
    "                        'dochod': 'income',\n",
    "                        'woj': 'province',\n",
    "                        'miasta': 'city_size',\n",
    "                        })"
   ]
  },
  {
   "cell_type": "code",
   "execution_count": 9,
   "metadata": {},
   "outputs": [],
   "source": [
    "df_adult_only = df[df.columns[0:123]]"
   ]
  },
  {
   "cell_type": "code",
   "execution_count": 10,
   "metadata": {},
   "outputs": [],
   "source": [
    "df_adult_only.to_excel('adult_NLP.xlsx', index=False)"
   ]
  }
 ],
 "metadata": {
  "kernelspec": {
   "display_name": "Python 3",
   "language": "python",
   "name": "python3"
  },
  "language_info": {
   "codemirror_mode": {
    "name": "ipython",
    "version": 3
   },
   "file_extension": ".py",
   "mimetype": "text/x-python",
   "name": "python",
   "nbconvert_exporter": "python",
   "pygments_lexer": "ipython3",
   "version": "3.10.6"
  },
  "orig_nbformat": 4
 },
 "nbformat": 4,
 "nbformat_minor": 2
}
